{
 "cells": [
  {
   "cell_type": "markdown",
   "metadata": {},
   "source": [
    "# tf records decoding"
   ]
  },
  {
   "cell_type": "markdown",
   "metadata": {},
   "source": [
    "# imports"
   ]
  },
  {
   "cell_type": "code",
   "execution_count": 1,
   "metadata": {},
   "outputs": [],
   "source": [
    "import sys  \n",
    "sys.path.insert(0, './TIES-2.0/python')\n",
    "\n",
    "import tensorflow as tf\n",
    "from readers.image_words_reader import ImageWordsReader\n",
    "import matplotlib.pyplot as plt"
   ]
  },
  {
   "cell_type": "markdown",
   "metadata": {},
   "source": [
    "# configs"
   ]
  },
  {
   "cell_type": "code",
   "execution_count": 2,
   "metadata": {},
   "outputs": [],
   "source": [
    "%run TIES-2.0/python/readers/image_words_reader.py\n",
    "%run TIES-2.0/python/libs/configuration_manager.py"
   ]
  },
  {
   "cell_type": "code",
   "execution_count": 3,
   "metadata": {},
   "outputs": [],
   "source": [
    "import configparser as cp\n",
    "\n",
    "config_manager_instance = \"none\"\n",
    "\n",
    "\n",
    "class ConfigurationManager:\n",
    "    def __init__(self, config_file_path, config_name):\n",
    "        config_file = cp.ConfigParser()\n",
    "        config_file.read(config_file_path)\n",
    "        self.config = config_file[config_name]\n",
    "\n",
    "    @staticmethod\n",
    "    def init(config_file_path, config_name):\n",
    "        global config_manager_instance\n",
    "        if config_manager_instance!=\"none\":\n",
    "            raise Exception(\"Config manager already initialized\")\n",
    "        config_manager_instance = ConfigurationManager(config_file_path, config_name)\n",
    "\n",
    "    @staticmethod\n",
    "    def get_config_param(key, type=\"str\"):\n",
    "        global config_manager_instance\n",
    "        if config_manager_instance==\"none\":\n",
    "            raise Exception(\"Config manager not initialized\")\n",
    "\n",
    "        return_value = None\n",
    "        if type==\"str\":\n",
    "            return_value = str(config_manager_instance.config[key])\n",
    "        elif type==\"float\":\n",
    "            return_value = float(config_manager_instance.config[key])\n",
    "        elif type==\"int\":\n",
    "            return_value = int(config_manager_instance.config[key])\n",
    "        elif type==\"bool\":\n",
    "            return_value = False\n",
    "            if config_manager_instance.config[key] == \"true\":\n",
    "                return_value = True\n",
    "            elif config_manager_instance.config[key] == \"True\":\n",
    "                return_value = True\n",
    "            elif config_manager_instance.config[key] == \"1\":\n",
    "                return_value = True\n",
    "            elif config_manager_instance.config[key] == \"0\":\n",
    "                return_value = False\n",
    "            elif config_manager_instance.config[key] == \"false\":\n",
    "                return_value = False\n",
    "            elif config_manager_instance.config[key] == \"False\":\n",
    "                return_value = False\n",
    "            else:\n",
    "                raise ValueError(\"Unknown bool format\")\n",
    "\n",
    "        else:\n",
    "            raise Exception(\"Unknown config type\")\n",
    "\n",
    "        return return_value\n",
    "\n",
    "    @staticmethod\n",
    "    def set_config_param(key, value):\n",
    "        global config_manager_instance\n",
    "        if config_manager_instance==\"none\":\n",
    "            raise Exception(\"Config manager not initialized\")\n",
    "\n",
    "        config_manager_instance.config[key] = value\n"
   ]
  },
  {
   "cell_type": "code",
   "execution_count": 4,
   "metadata": {},
   "outputs": [],
   "source": [
    "config_file_path = './TIES-2.0/configs/config.ini'\n",
    "config_name = 'basic_conv_graph'\n",
    "gconfig = ConfigurationManager(config_file_path, config_name)\n",
    "config_manager_instance = gconfig"
   ]
  },
  {
   "cell_type": "code",
   "execution_count": 5,
   "metadata": {},
   "outputs": [],
   "source": [
    "max_vertices = gconfig.get_config_param(\"max_vertices\", \"int\")\n",
    "num_vertex_features = gconfig.get_config_param(\"num_vertex_features\", \"int\")\n",
    "image_height = gconfig.get_config_param(\"max_image_height\", \"int\")\n",
    "image_width = gconfig.get_config_param(\"max_image_width\", \"int\")\n",
    "max_words_len = gconfig.get_config_param(\"max_words_len\", \"int\")\n",
    "num_batch = gconfig.get_config_param(\"batch_size\", \"int\")\n",
    "num_global_features = gconfig.get_config_param(\"num_global_features\", \"int\")\n",
    "image_channels = gconfig.get_config_param(\"image_channels\", \"int\")\n",
    "dim_vertex_x_position = gconfig.get_config_param(\"dim_vertex_x_position\", \"int\")\n",
    "dim_vertex_y_position = gconfig.get_config_param(\"dim_vertex_y_position\", \"int\")\n",
    "dim_vertex_x2_position = gconfig.get_config_param(\"dim_vertex_x2_position\", \"int\")\n",
    "dim_vertex_y2_position = gconfig.get_config_param(\"dim_vertex_y2_position\", \"int\")\n",
    "\n",
    "dim_num_vertices = gconfig.get_config_param(\"dim_num_vertices\", \"int\")\n",
    "samples_per_vertex = gconfig.get_config_param(\"samples_per_vertex\", \"int\")\n",
    "variable_scope = gconfig.get_config_param(\"variable_scope\", \"str\")\n",
    "training_files_list = gconfig.get_config_param(\"training_files_list\", \"str\")\n",
    "validation_files_list = gconfig.get_config_param(\"test_files_list\", \"str\")\n",
    "test_files_list = gconfig.get_config_param(\"validation_files_list\", \"str\")\n",
    "learning_rate = gconfig.get_config_param(\"learning_rate\", \"float\")\n",
    "\n",
    "is_sampling_balanced = gconfig.get_config_param(\"is_sampling_balanced\", \"bool\")\n",
    "\n",
    "visual_feedback_out_path = gconfig.get_config_param(\"visual_feedback_out_path\", type=\"str\")\n",
    "test_output_path = gconfig.get_config_param(\"test_out_path\", type=\"str\")"
   ]
  },
  {
   "cell_type": "markdown",
   "metadata": {},
   "source": [
    "## Exploring data"
   ]
  },
  {
   "cell_type": "code",
   "execution_count": 6,
   "metadata": {},
   "outputs": [],
   "source": [
    "training_reader = ImageWordsReader(training_files_list, num_global_features,\n",
    "                                            max_vertices, num_vertex_features,\n",
    "                                            image_height, image_width, image_channels,\n",
    "                                            max_words_len, num_batch)\n",
    "\n",
    "#vertex_features, image, global_features, adj_cells, adj_rows, adj_cols\n",
    "training_feeds = training_reader.get_feeds()"
   ]
  },
  {
   "cell_type": "code",
   "execution_count": 7,
   "metadata": {},
   "outputs": [],
   "source": [
    "vertex_features, image, global_features, adj_cells, adj_rows, adj_cols = training_feeds"
   ]
  },
  {
   "cell_type": "code",
   "execution_count": 8,
   "metadata": {},
   "outputs": [
    {
     "name": "stdout",
     "output_type": "stream",
     "text": [
      "WARNING:tensorflow:From /home/ramzimissaoui/.local/lib/python3.6/site-packages/tensorflow/python/util/tf_should_use.py:189: initialize_all_variables (from tensorflow.python.ops.variables) is deprecated and will be removed after 2017-03-02.\n",
      "Instructions for updating:\n",
      "Use `tf.global_variables_initializer` instead.\n"
     ]
    }
   ],
   "source": [
    "with tf.Session() as sess:\n",
    "    init_op = tf.initialize_all_variables()\n",
    "    sess.run(init_op)\n",
    "    adj_cells_eval = adj_cells.eval()"
   ]
  },
  {
   "cell_type": "code",
   "execution_count": 9,
   "metadata": {},
   "outputs": [
    {
     "data": {
      "text/plain": [
       "(30, 900, 900)"
      ]
     },
     "execution_count": 9,
     "metadata": {},
     "output_type": "execute_result"
    }
   ],
   "source": [
    "adj_cells_eval.shape"
   ]
  },
  {
   "cell_type": "code",
   "execution_count": 10,
   "metadata": {},
   "outputs": [],
   "source": [
    "with tf.Session() as sess:\n",
    "    init_op = tf.initialize_all_variables()\n",
    "    sess.run(init_op)\n",
    "    global_features_eval = global_features.eval()"
   ]
  },
  {
   "cell_type": "code",
   "execution_count": 11,
   "metadata": {},
   "outputs": [
    {
     "data": {
      "text/plain": [
       "(30, 4)"
      ]
     },
     "execution_count": 11,
     "metadata": {},
     "output_type": "execute_result"
    }
   ],
   "source": [
    "global_features_eval.shape"
   ]
  },
  {
   "cell_type": "code",
   "execution_count": 13,
   "metadata": {},
   "outputs": [
    {
     "data": {
      "text/plain": [
       "array([ 768., 1366.,   54.,    2.], dtype=float32)"
      ]
     },
     "execution_count": 13,
     "metadata": {},
     "output_type": "execute_result"
    }
   ],
   "source": [
    "global_features_eval[0]"
   ]
  },
  {
   "cell_type": "code",
   "execution_count": 15,
   "metadata": {},
   "outputs": [],
   "source": [
    "with tf.Session() as sess:\n",
    "    init_op = tf.initialize_all_variables()\n",
    "    sess.run(init_op)\n",
    "    image_eval = image.eval()"
   ]
  },
  {
   "cell_type": "code",
   "execution_count": 16,
   "metadata": {},
   "outputs": [
    {
     "data": {
      "text/plain": [
       "(768, 1366)"
      ]
     },
     "execution_count": 16,
     "metadata": {},
     "output_type": "execute_result"
    }
   ],
   "source": [
    "image_eval[:,:,:,0][0].shape"
   ]
  },
  {
   "cell_type": "code",
   "execution_count": 17,
   "metadata": {},
   "outputs": [
    {
     "data": {
      "text/plain": [
       "<matplotlib.image.AxesImage at 0x7f7fd0580dd8>"
      ]
     },
     "execution_count": 17,
     "metadata": {},
     "output_type": "execute_result"
    },
    {
     "data": {
      "image/png": "[encoded data removed]",
      "text/plain": [
       "<Figure size 432x288 with 1 Axes>"
      ]
     },
     "metadata": {
      "needs_background": "light"
     },
     "output_type": "display_data"
    }
   ],
   "source": [
    "plt.imshow(image_eval[:,:,:,0][0], aspect=\"auto\")"
   ]
  },
  {
   "cell_type": "code",
   "execution_count": null,
   "metadata": {},
   "outputs": [],
   "source": []
  }
 ],
 "metadata": {
  "kernelspec": {
   "display_name": "Python 3",
   "language": "python",
   "name": "python3"
  },
  "language_info": {
   "codemirror_mode": {
    "name": "ipython",
    "version": 3
   },
   "file_extension": ".py",
   "mimetype": "text/x-python",
   "name": "python",
   "nbconvert_exporter": "python",
   "pygments_lexer": "ipython3",
   "version": "3.8.5"
  }
 },
 "nbformat": 4,
 "nbformat_minor": 4
}
